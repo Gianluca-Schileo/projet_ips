{
 "cells": [
  {
   "cell_type": "code",
   "execution_count": 70,
   "id": "3f048114",
   "metadata": {},
   "outputs": [],
   "source": [
    "import pandas as pd"
   ]
  },
  {
   "attachments": {},
   "cell_type": "markdown",
   "id": "024a93f1",
   "metadata": {},
   "source": [
    "### IPS \n",
    "as \"Indice de Position Social\" is a index calculated from socio-professional categories of both parents and legal representative, revenues of parents, material situation, educational intrest and cultural implication.\n",
    "It scales from 38 to 179 (no unit) and the actual formula to calculate it has not been made public. We possess the average IPS of nearly every highschools in France. \n",
    "IPS is a mean to observe and fight against school related inequalities.\n",
    "### Ival\n",
    "as \"Indicateur de Valeur ajoutée\" is a number (positive or negative, no unit) calculated from the actual result minus the expected result. This value shows if a school is capable of supporting their students from entry to graduation. "
   ]
  },
  {
   "cell_type": "code",
   "execution_count": 71,
   "id": "da3595f9",
   "metadata": {},
   "outputs": [],
   "source": [
    "#Dataframe containing ips of high schools in france\n",
    "ips_df = pd.read_csv(\"../data/ips.csv\", delimiter=\";\")\n",
    "\n",
    "#Dataframe containing exam results of high schools in france\n",
    "res_df = pd.read_csv(\"../data/results.csv\", delimiter=\";\", low_memory=False)"
   ]
  },
  {
   "cell_type": "code",
   "execution_count": 72,
   "id": "00924285",
   "metadata": {
    "scrolled": false
   },
   "outputs": [],
   "source": [
    "#Taking out values = 'ND' since it is a string and does not appear frequently\n",
    "res_df = res_df[res_df['Valeur ajoutee du taux de réussite - Gnle'] != 'ND']\n",
    "res_df = res_df[res_df['Valeur ajoutee du taux de reussite - Toutes series'] != 'ND']\n",
    "#Taking out values taken before 2017 since ips_df does not have values (for exams which take place at the last year of the school year) before 2018\n",
    "res_df = res_df[res_df[\"Annee\"] >= 2017]\n",
    "\n",
    "#Converting the year range \"20XX(0) - 20XX(1)\" to \"20XX(1)\"\n",
    "ips_df[\"Rentrée scolaire\"] = ips_df[\"Rentrée scolaire\"].apply(lambda x: x.split(sep=\"-\")[1])"
   ]
  },
  {
   "cell_type": "code",
   "execution_count": 73,
   "id": "c6893b06",
   "metadata": {},
   "outputs": [],
   "source": [
    "#Convertting values for merge (avoid ValueError)\n",
    "for col in ips_df.columns:\n",
    "    ips_df[col] = ips_df[col].apply(str)\n",
    "\n",
    "for col in res_df.columns:\n",
    "    res_df[col] = res_df[col].apply(str)"
   ]
  },
  {
   "cell_type": "code",
   "execution_count": 74,
   "id": "b82f41ee",
   "metadata": {},
   "outputs": [],
   "source": [
    "#Merging columns of all exam types, did not have time to figure our a better way to do this\n",
    "\n",
    "#Seperating res_df by year\n",
    "res_df_year = res_df.groupby(['Annee'])\n",
    "\n",
    "#Seperating res_df by type of exam\n",
    "res_df_tt = pd.DataFrame()\n",
    "res_df_gn = pd.DataFrame()\n",
    "for year in res_df_year.groups:\n",
    "    if int(year) < 2021:\n",
    "        res_df_tt = pd.concat([res_df_tt, res_df_year.get_group(year)], sort=False)\n",
    "    else:\n",
    "        res_df_gn = pd.concat([res_df_gn, res_df_year.get_group(year)], sort=False)\n",
    "        \n",
    "#Merging res_df_tt and res_df_gn\n",
    "res_df_tt.drop(columns=[\"Presents - Gnle\", \"Taux de reussite - Gnle\", \"Taux de mentions - Gnle\", \"Valeur ajoutee du taux de réussite - Gnle\", \"Valeur ajoutée du taux de mentions - Gnle\"], inplace=True)\n",
    "res_df_tt.rename(columns={\"Presents - Toutes series\" : \"Presents\", \"Taux de reussite - Toutes series\" : \"Taux de reussite\", \"Taux de mentions - Toutes series\" : \"Taux de mentions\", \"Valeur ajoutee du taux de reussite - Toutes series\" : \"Valeur ajoutee du taux de reussite\", \"Valeur ajoutee du taux de mentions - Toutes series\" : \"Valeur ajoutee du taux de mentions\"}, inplace=True)\n",
    "res_df_gn.drop(columns=[\"Presents - Toutes series\", \"Taux de reussite - Toutes series\", \"Taux de mentions - Toutes series\", \"Valeur ajoutee du taux de reussite - Toutes series\", \"Valeur ajoutee du taux de mentions - Toutes series\"], inplace=True)\n",
    "res_df_gn.rename(columns={\"Presents - Gnle\" : \"Presents\", \"Taux de reussite - Gnle\" : \"Taux de reussite\", \"Taux de mentions - Gnle\" : \"Taux de mentions\", \"Valeur ajoutee du taux de réussite - Gnle\" : \"Valeur ajoutee du taux de reussite\", \"Valeur ajoutee du taux de mentions - Gnle\" : \"Valeur ajoutee du taux de mentions\"}, inplace=True)\n",
    "\n",
    "res_df = pd.concat([res_df_tt, res_df_gn], sort=False)"
   ]
  },
  {
   "cell_type": "code",
   "execution_count": 75,
   "id": "21ace3f2",
   "metadata": {},
   "outputs": [],
   "source": [
    "ips_df = ips_df.rename(columns={\"Rentrée scolaire\":\"Annee\"})\n",
    "#Left to ensure all data is present\n",
    "ips_res_df = pd.merge(ips_df, res_df, how=\"left\", on=[\"UAI\", \"Annee\", \"Secteur\"])"
   ]
  },
  {
   "cell_type": "code",
   "execution_count": 76,
   "id": "d146806e",
   "metadata": {},
   "outputs": [],
   "source": [
    "#Creating a new df with only useful columns\n",
    "ips_res_df = ips_res_df[[\"Annee\", \"Code region\", \"Code departement\", \"Code commune\", \"UAI\", \"Secteur\", \"Type de lycée\", \n",
    "                        \"IPS voie GT\", \"IPS voie PRO\", \"IPS Ensemble GT-PRO\",\n",
    "                        \"Ecart-type de l'IPS voie GT\", \"Ecart-type de l'IPS voie PRO\", \n",
    "                        \"Presents\", \"Taux de reussite\", \"Taux de mentions\",\n",
    "                        \"Valeur ajoutee du taux de mentions\", \"Valeur ajoutee du taux de reussite\",\n",
    "                        \"Effectif de seconde\", \"Effectif de premiere\", \"Effectif de terminale\",\n",
    "                        \"Taux d'acces 2nde-bac\", \"Taux d'acces 1ere-bac\", \"Taux d'acces terminale-bac\",\n",
    "                        \"Valeur ajoutee du taux d'acces 2nde-bac\", \"Valeur ajoutee du taux d'acces 1ere-bac\", \"Valeur ajoutee du taux d'acces terminale-bac\"\n",
    "                        ]]\n",
    "\n",
    "ips_res_df.to_csv(\"../data/ips_results.csv\")"
   ]
  }
 ],
 "metadata": {
  "kernelspec": {
   "display_name": "Python 3 (ipykernel)",
   "language": "python",
   "name": "python3"
  },
  "language_info": {
   "codemirror_mode": {
    "name": "ipython",
    "version": 3
   },
   "file_extension": ".py",
   "mimetype": "text/x-python",
   "name": "python",
   "nbconvert_exporter": "python",
   "pygments_lexer": "ipython3",
   "version": "3.10.11"
  }
 },
 "nbformat": 4,
 "nbformat_minor": 5
}
