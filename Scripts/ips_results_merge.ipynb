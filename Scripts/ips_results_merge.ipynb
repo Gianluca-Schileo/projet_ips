{
 "cells": [
  {
   "cell_type": "code",
   "execution_count": 13,
   "id": "3f048114",
   "metadata": {},
   "outputs": [],
   "source": [
    "import pandas as pd"
   ]
  },
  {
   "attachments": {},
   "cell_type": "markdown",
   "id": "024a93f1",
   "metadata": {},
   "source": [
    "### IPS \n",
    "as \"Indice de Position Social\" is a index calculated from socio-professional categories of both parents and legal representative, revenues of parents, material situation, educational intrest and cultural implication.\n",
    "It scales from 38 to 179 (no unit) and the actual formula to calculate it has not been made public. We possess the average IPS of nearly every highschools in France. \n",
    "IPS is a mean to observe and fight against school related inequalities.\n",
    "### Ival\n",
    "as \"Indicateur de Valeur ajoutée\" is a number (positive or negative, no unit) calculated from the actual result minus the expected result. This value shows if a school is capable of supporting their students from entry to graduation. "
   ]
  },
  {
   "cell_type": "code",
   "execution_count": 14,
   "id": "da3595f9",
   "metadata": {},
   "outputs": [],
   "source": [
    "#Dataframe containing ips of high schools in france\n",
    "ips_df = pd.read_csv(\"ips.csv\", delimiter=\";\")\n",
    "\n",
    "#Dataframe containing exam results of high schools in france\n",
    "res_df = pd.read_csv(\"results.csv\", delimiter=\";\", low_memory=False)"
   ]
  },
  {
   "cell_type": "code",
   "execution_count": 15,
   "id": "58c283cb",
   "metadata": {},
   "outputs": [
    {
     "data": {
      "text/html": [
       "<div>\n",
       "<style scoped>\n",
       "    .dataframe tbody tr th:only-of-type {\n",
       "        vertical-align: middle;\n",
       "    }\n",
       "\n",
       "    .dataframe tbody tr th {\n",
       "        vertical-align: top;\n",
       "    }\n",
       "\n",
       "    .dataframe thead th {\n",
       "        text-align: right;\n",
       "    }\n",
       "</style>\n",
       "<table border=\"1\" class=\"dataframe\">\n",
       "  <thead>\n",
       "    <tr style=\"text-align: right;\">\n",
       "      <th></th>\n",
       "      <th>Rentrée scolaire</th>\n",
       "      <th>Académie</th>\n",
       "      <th>Code du département</th>\n",
       "      <th>Département</th>\n",
       "      <th>UAI</th>\n",
       "      <th>Nom de l'établissment</th>\n",
       "      <th>Code INSEE de la commune</th>\n",
       "      <th>Nom de la commune</th>\n",
       "      <th>Secteur</th>\n",
       "      <th>Type de lycée</th>\n",
       "      <th>IPS voie GT</th>\n",
       "      <th>IPS voie PRO</th>\n",
       "      <th>IPS Ensemble GT-PRO</th>\n",
       "      <th>Ecart-type de l'IPS voie GT</th>\n",
       "      <th>Ecart-type de l'IPS voie PRO</th>\n",
       "    </tr>\n",
       "  </thead>\n",
       "  <tbody>\n",
       "    <tr>\n",
       "      <th>0</th>\n",
       "      <td>2018-2019</td>\n",
       "      <td>CRETEIL</td>\n",
       "      <td>77.0</td>\n",
       "      <td>SEINE-ET-MARNE</td>\n",
       "      <td>0771027Y</td>\n",
       "      <td>LYCEE POLYVALENT FREDERIC JOLIOT CURIE LYCEE D...</td>\n",
       "      <td>77152.0</td>\n",
       "      <td>DAMMARIE LES LYS</td>\n",
       "      <td>public</td>\n",
       "      <td>LPO</td>\n",
       "      <td>109.7</td>\n",
       "      <td>88.3</td>\n",
       "      <td>101.6</td>\n",
       "      <td>NaN</td>\n",
       "      <td>NaN</td>\n",
       "    </tr>\n",
       "  </tbody>\n",
       "</table>\n",
       "</div>"
      ],
      "text/plain": [
       "  Rentrée scolaire Académie  Code du département     Département       UAI   \n",
       "0        2018-2019  CRETEIL                 77.0  SEINE-ET-MARNE  0771027Y  \\\n",
       "\n",
       "                               Nom de l'établissment   \n",
       "0  LYCEE POLYVALENT FREDERIC JOLIOT CURIE LYCEE D...  \\\n",
       "\n",
       "   Code INSEE de la commune Nom de la commune Secteur Type de lycée   \n",
       "0                   77152.0  DAMMARIE LES LYS  public           LPO  \\\n",
       "\n",
       "   IPS voie GT  IPS voie PRO  IPS Ensemble GT-PRO   \n",
       "0        109.7          88.3                101.6  \\\n",
       "\n",
       "   Ecart-type de l'IPS voie GT  Ecart-type de l'IPS voie PRO  \n",
       "0                          NaN                           NaN  "
      ]
     },
     "execution_count": 15,
     "metadata": {},
     "output_type": "execute_result"
    }
   ],
   "source": [
    "ips_df.head(1)"
   ]
  },
  {
   "cell_type": "code",
   "execution_count": 16,
   "id": "b5c65884",
   "metadata": {
    "scrolled": true
   },
   "outputs": [
    {
     "data": {
      "text/html": [
       "<div>\n",
       "<style scoped>\n",
       "    .dataframe tbody tr th:only-of-type {\n",
       "        vertical-align: middle;\n",
       "    }\n",
       "\n",
       "    .dataframe tbody tr th {\n",
       "        vertical-align: top;\n",
       "    }\n",
       "\n",
       "    .dataframe thead th {\n",
       "        text-align: right;\n",
       "    }\n",
       "</style>\n",
       "<table border=\"1\" class=\"dataframe\">\n",
       "  <thead>\n",
       "    <tr style=\"text-align: right;\">\n",
       "      <th></th>\n",
       "      <th>Etablissement</th>\n",
       "      <th>Annee</th>\n",
       "      <th>Ville</th>\n",
       "      <th>UAI</th>\n",
       "      <th>Code commune</th>\n",
       "      <th>Academie</th>\n",
       "      <th>Departement</th>\n",
       "      <th>Secteur</th>\n",
       "      <th>Presents - L</th>\n",
       "      <th>Presents - ES</th>\n",
       "      <th>...</th>\n",
       "      <th>Valeur ajoutee du taux de mentions - STMG</th>\n",
       "      <th>Valeur ajoutee du taux de mentions - STL</th>\n",
       "      <th>Valeur ajoutee du taux de mentions - ST2S</th>\n",
       "      <th>Valeur ajoutee du taux de mentions - TMD</th>\n",
       "      <th>Valeur ajoutee du taux de mentions - STHR</th>\n",
       "      <th>Presents - Gnle</th>\n",
       "      <th>Taux de reussite - Gnle</th>\n",
       "      <th>Valeur ajoutee du taux de réussite - Gnle</th>\n",
       "      <th>Taux de mentions - Gnle</th>\n",
       "      <th>Valeur ajoutée du taux de mentions - Gnle</th>\n",
       "    </tr>\n",
       "  </thead>\n",
       "  <tbody>\n",
       "    <tr>\n",
       "      <th>0</th>\n",
       "      <td>LYCEE CHARLES PONCET (GENERAL ET TECHNO.)</td>\n",
       "      <td>2021</td>\n",
       "      <td>CLUSES</td>\n",
       "      <td>0740017S</td>\n",
       "      <td>74081</td>\n",
       "      <td>GRENOBLE</td>\n",
       "      <td>HAUTE SAVOIE</td>\n",
       "      <td>public</td>\n",
       "      <td>NaN</td>\n",
       "      <td>NaN</td>\n",
       "      <td>...</td>\n",
       "      <td>17</td>\n",
       "      <td>NaN</td>\n",
       "      <td>NaN</td>\n",
       "      <td>NaN</td>\n",
       "      <td>NaN</td>\n",
       "      <td>279.0</td>\n",
       "      <td>95.0</td>\n",
       "      <td>-3</td>\n",
       "      <td>70.0</td>\n",
       "      <td>-1</td>\n",
       "    </tr>\n",
       "  </tbody>\n",
       "</table>\n",
       "<p>1 rows × 137 columns</p>\n",
       "</div>"
      ],
      "text/plain": [
       "                               Etablissement  Annee   Ville       UAI   \n",
       "0  LYCEE CHARLES PONCET (GENERAL ET TECHNO.)   2021  CLUSES  0740017S  \\\n",
       "\n",
       "  Code commune  Academie   Departement Secteur  Presents - L  Presents - ES   \n",
       "0        74081  GRENOBLE  HAUTE SAVOIE  public           NaN            NaN  \\\n",
       "\n",
       "   ...  Valeur ajoutee du taux de mentions - STMG   \n",
       "0  ...                                         17  \\\n",
       "\n",
       "   Valeur ajoutee du taux de mentions - STL   \n",
       "0                                       NaN  \\\n",
       "\n",
       "   Valeur ajoutee du taux de mentions - ST2S   \n",
       "0                                        NaN  \\\n",
       "\n",
       "   Valeur ajoutee du taux de mentions - TMD   \n",
       "0                                       NaN  \\\n",
       "\n",
       "   Valeur ajoutee du taux de mentions - STHR  Presents - Gnle   \n",
       "0                                        NaN            279.0  \\\n",
       "\n",
       "   Taux de reussite - Gnle  Valeur ajoutee du taux de réussite - Gnle   \n",
       "0                     95.0                                         -3  \\\n",
       "\n",
       "   Taux de mentions - Gnle  Valeur ajoutée du taux de mentions - Gnle  \n",
       "0                     70.0                                         -1  \n",
       "\n",
       "[1 rows x 137 columns]"
      ]
     },
     "execution_count": 16,
     "metadata": {},
     "output_type": "execute_result"
    }
   ],
   "source": [
    "res_df.head(1)"
   ]
  },
  {
   "cell_type": "code",
   "execution_count": 17,
   "id": "00924285",
   "metadata": {
    "scrolled": false
   },
   "outputs": [],
   "source": [
    "#Taking out values = 'ND' since it is a string and does not appear frequently\n",
    "res_df = res_df[res_df['Valeur ajoutee du taux de réussite - Gnle'] != 'ND']\n",
    "#Taking out values taken before 2018 since ips_df does not have values (for exams which take place at the last year of the school year) before 2018\n",
    "res_df = res_df[res_df[\"Annee\"] >= 2017]\n",
    "\n",
    "#Converting the year range \"20XX(0) - 20XX(1)\" to \"20XX(1)\"\n",
    "ips_df[\"Rentrée scolaire\"] = ips_df[\"Rentrée scolaire\"].apply(lambda x: x.split(sep=\"-\")[1])"
   ]
  },
  {
   "cell_type": "code",
   "execution_count": 18,
   "id": "c6893b06",
   "metadata": {},
   "outputs": [],
   "source": [
    "#Convertting values for merge (avoid ValueError)\n",
    "for col in ips_df.columns:\n",
    "    ips_df[col] = ips_df[col].apply(str)\n",
    "\n",
    "for col in res_df.columns:\n",
    "    res_df[col] = res_df[col].apply(str)"
   ]
  },
  {
   "cell_type": "code",
   "execution_count": 19,
   "id": "21ace3f2",
   "metadata": {},
   "outputs": [],
   "source": [
    "ips_df = ips_df.rename(columns={\"Rentrée scolaire\":\"Annee\"})\n",
    "#Inner to ensure all values are present for each high school per year\n",
    "ips_res_df = pd.merge(ips_df, res_df, how=\"inner\", on=[\"UAI\", \"Annee\"])"
   ]
  },
  {
   "cell_type": "code",
   "execution_count": 24,
   "id": "d146806e",
   "metadata": {},
   "outputs": [],
   "source": [
    "#Creating a new df with only useful columns\n",
    "ips_res_df = ips_res_df[[\"Annee\", \"Code region\", \"Code departement\", \"Code commune\", \"UAI\", \"Secteur_x\", \"Type de lycée\", \n",
    "                        \"IPS voie GT\", \"IPS voie PRO\", \"IPS Ensemble GT-PRO\",\n",
    "                        \"Ecart-type de l'IPS voie GT\", \"Ecart-type de l'IPS voie PRO\", \n",
    "                        \"Presents - L\", \"Presents - ES\", \"Presents - S\", \"Presents - Toutes series\",\n",
    "                        \"Taux de reussite - L\", \"Taux de reussite - ES\", \"Taux de reussite - S\", \"Taux de reussite - Toutes series\",\n",
    "                        \"Taux de mentions - L\", \"Taux de mentions - ES\", \"Taux de mentions - S\", \"Taux de mentions - Toutes series\",\n",
    "                        \"Effectif de seconde\", \"Effectif de premiere\", \"Effectif de terminale\",\n",
    "                        \"Taux d'acces 2nde-bac\", \"Taux d'acces 1ere-bac\", \"Taux d'acces terminale-bac\",\n",
    "                        \"Valeur ajoutee du taux d'acces 2nde-bac\", \"Valeur ajoutee du taux d'acces 1ere-bac\", \"Valeur ajoutee du taux d'acces terminale-bac\",\n",
    "                        \"Valeur ajoutee du taux de reussite - Toutes series\",\n",
    "                        \"Valeur ajoutee du taux de reussite - L\", \"Valeur ajoutee du taux de reussite - ES\", \"Valeur ajoutee du taux de reussite - S\",\n",
    "                        \"Valeur ajoutee du taux de mentions - Toutes series\",\n",
    "                        \"Valeur ajoutee du taux de mentions - L\", \"Valeur ajoutee du taux de mentions - ES\", \"Valeur ajoutee du taux de mentions - S\",\n",
    "                        \"Presents - Gnle\", \"Taux de reussite - Gnle\", \"Taux de mentions - Gnle\", \n",
    "                        \"Valeur ajoutee du taux de réussite - Gnle\", \"Valeur ajoutée du taux de mentions - Gnle\"\n",
    "                        ]]\n",
    "\n",
    "ips_res_df = ips_res_df.rename(columns={\"Secteur_x\":\"Secteur\"})\n",
    "\n",
    "ips_res_df.to_csv(\"ips_results.csv\")"
   ]
  }
 ],
 "metadata": {
  "kernelspec": {
   "display_name": "Python 3 (ipykernel)",
   "language": "python",
   "name": "python3"
  },
  "language_info": {
   "codemirror_mode": {
    "name": "ipython",
    "version": 3
   },
   "file_extension": ".py",
   "mimetype": "text/x-python",
   "name": "python",
   "nbconvert_exporter": "python",
   "pygments_lexer": "ipython3",
   "version": "3.10.11"
  }
 },
 "nbformat": 4,
 "nbformat_minor": 5
}
